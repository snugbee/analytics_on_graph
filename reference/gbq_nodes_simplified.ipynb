{
 "cells": [
  {
   "cell_type": "markdown",
   "metadata": {},
   "source": [
    "## Extract data from a gbq table and load it as nodes in AuraDB\n",
    "This is a simplified script to demo the basics based on not needing to transform data."
   ]
  },
  {
   "cell_type": "code",
   "execution_count": null,
   "metadata": {},
   "outputs": [],
   "source": [
    "# Import packages\n",
    "import pandas as pd\n",
    "from pandas.io import gbq"
   ]
  },
  {
   "cell_type": "markdown",
   "metadata": {},
   "source": [
    "### Extract data\n",
    "- If you have the permission to the project where your gbq datatable is, you can extract data into a dataframe.\n",
    "- Reminder: querying gbq table will cause costs as running gbq tables."
   ]
  },
  {
   "cell_type": "code",
   "execution_count": null,
   "metadata": {},
   "outputs": [],
   "source": [
    "# read in data\n",
    "data = '''SELECT * FROM `<your_gbq_project.dataset.table>`'''\n",
    "df_data = gbq.read_gbq(data, project_id='<your_gbq_project>')"
   ]
  },
  {
   "cell_type": "markdown",
   "metadata": {},
   "source": [
    "### Load to Graph\n",
    "- You will need an AuraDB instance and credentials.\n",
    "- If there is no need to transform, you can load data as nodes into your AuraDB instance."
   ]
  },
  {
   "cell_type": "code",
   "execution_count": null,
   "metadata": {},
   "outputs": [],
   "source": [
    "from neo4j import GraphDatabase, RoutingControl, Result\n",
    "# Define the Neo4j connection\n",
    "uri = \"neo4j+ssc://<your_instance>.databases.neo4j.io\"\n",
    "user = \"<username>\" # e.g. \"neo4j\"\n",
    "password = \"<password>\"\n",
    "db_name = \"db_name\" # e.g. \"neo4j\"\n",
    "driver = GraphDatabase.driver(uri, auth=(user, password))"
   ]
  },
  {
   "cell_type": "code",
   "execution_count": null,
   "metadata": {},
   "outputs": [],
   "source": [
    "driver.verify_connectivity()"
   ]
  },
  {
   "cell_type": "markdown",
   "metadata": {},
   "source": [
    "### Split dataframe into chunks\n",
    "This step is to split large dataframe to facilitate the loading."
   ]
  },
  {
   "cell_type": "code",
   "execution_count": null,
   "metadata": {},
   "outputs": [],
   "source": [
    "# Split dataframe into chunks\n",
    "def split_dataframe(dataframe, chunk_size = 5000): \n",
    "    chunks = list()\n",
    "    num_chunks = len(dataframe) // chunk_size + 1\n",
    "    for i in range(num_chunks):\n",
    "        chunks.append(dataframe[i*chunk_size:(i+1)*chunk_size])\n",
    "    return chunks"
   ]
  },
  {
   "cell_type": "markdown",
   "metadata": {},
   "source": [
    "### Create nodes"
   ]
  },
  {
   "cell_type": "code",
   "execution_count": null,
   "metadata": {},
   "outputs": [],
   "source": [
    "# Function to update nodes in Neo4j With chunks\n",
    "def create_node(dataframe, label):\n",
    "    node_query = (\n",
    "        f\"UNWIND $rows AS row \"\n",
    "        f\"MERGE (n:{label}) \"\n",
    "        f\"SET n += row \"\n",
    "        f\"RETURN count(*) AS nodes_created;\"\n",
    "    )\n",
    "    \n",
    "    for chunk in split_dataframe(dataframe):\n",
    "        records, summary, keys = driver.execute_query(\n",
    "            node_query,\n",
    "            database_=db_name,\n",
    "            routing_=RoutingControl.WRITE,\n",
    "            rows = chunk.to_dict('records')\n",
    "        )\n",
    "        print(summary.counters)        "
   ]
  },
  {
   "cell_type": "code",
   "execution_count": null,
   "metadata": {},
   "outputs": [],
   "source": [
    "# Load nodes into Neo4j. Replace 'NodeLabel' with the label you want to use for the nodes.\n",
    "create_node(df_data, 'NodeLabel')"
   ]
  }
 ],
 "metadata": {
  "language_info": {
   "name": "python"
  }
 },
 "nbformat": 4,
 "nbformat_minor": 2
}
